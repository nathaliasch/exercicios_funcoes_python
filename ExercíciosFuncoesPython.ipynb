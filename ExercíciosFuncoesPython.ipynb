{
  "nbformat": 4,
  "nbformat_minor": 0,
  "metadata": {
    "colab": {
      "provenance": []
    },
    "kernelspec": {
      "name": "python3",
      "display_name": "Python 3"
    },
    "language_info": {
      "name": "python"
    }
  },
  "cells": [
    {
      "cell_type": "markdown",
      "source": [
        "# Exercício 1 - Crie uma função que imprima a sequência de números pares entre 1 e 20 (a função não recebe parâmetro) e depois faça uma chamada à função para listar os números      \n"
      ],
      "metadata": {
        "id": "6HJ7E4ljEXbH"
      }
    },
    {
      "cell_type": "code",
      "source": [
        "def listarPares ():\n",
        "    for i in range (2, 21, 2):\n",
        "        print(i)\n",
        "\n",
        "listarPares()"
      ],
      "metadata": {
        "colab": {
          "base_uri": "https://localhost:8080/"
        },
        "id": "Wy5CCza7EX4W",
        "outputId": "20666b1e-b13d-463c-c2ba-0c439021d4c6"
      },
      "execution_count": 2,
      "outputs": [
        {
          "output_type": "stream",
          "name": "stdout",
          "text": [
            "2\n",
            "4\n",
            "6\n",
            "8\n",
            "10\n",
            "12\n",
            "14\n",
            "16\n",
            "18\n",
            "20\n"
          ]
        }
      ]
    },
    {
      "cell_type": "markdown",
      "source": [
        "# Exercício 2 - Crie uma função que receba uma string como argumento e retorne a mesma string em letras maiúsculas. Faça uma chamada à função, passando como parâmetro uma string\n"
      ],
      "metadata": {
        "id": "zmCbqXqOGDkO"
      }
    },
    {
      "cell_type": "code",
      "source": [
        "def retornaMaiusculas (texto):\n",
        "  return texto.upper()\n",
        "\n",
        "resultado = retornaMaiusculas(\"estou aprendendo python\")\n",
        "print(resultado)"
      ],
      "metadata": {
        "colab": {
          "base_uri": "https://localhost:8080/"
        },
        "id": "Cbcx0ZgkGLQ6",
        "outputId": "e513ee16-c0de-4900-b03e-31d2424c153a"
      },
      "execution_count": 3,
      "outputs": [
        {
          "output_type": "stream",
          "name": "stdout",
          "text": [
            "ESTOU APRENDENDO PYTHON\n"
          ]
        }
      ]
    },
    {
      "cell_type": "markdown",
      "source": [
        "# Exercício 3 - Crie uma função que receba como parâmetro uma lista de 4 elementos, adicione 2 elementos a lista e imprima a lista"
      ],
      "metadata": {
        "id": "AFp7OabSGNwR"
      }
    },
    {
      "cell_type": "code",
      "source": [
        "def adicionaElementos(lista):\n",
        "  lista.append(5)\n",
        "  lista.append(6)\n",
        "\n",
        "minhaLista = [1, 2, 3, 4]\n",
        "adicionaElementos(minhaLista)\n",
        "print(minhaLista)\n",
        "\n"
      ],
      "metadata": {
        "colab": {
          "base_uri": "https://localhost:8080/"
        },
        "id": "tDblwIIrF03L",
        "outputId": "7fd3e372-fa4c-4570-9084-bef8e8d3eac7"
      },
      "execution_count": 4,
      "outputs": [
        {
          "output_type": "stream",
          "name": "stdout",
          "text": [
            "[1, 2, 3, 4, 5, 6]\n"
          ]
        }
      ]
    },
    {
      "cell_type": "markdown",
      "source": [
        "# Exercício 4 - Crie uma função que receba um argumento formal e uma possível lista de elementos. Faça duas chamadas à função, com apenas 1 elemento e na segunda chamada com 4 elementos"
      ],
      "metadata": {
        "id": "ePgumPrMGT-8"
      }
    },
    {
      "cell_type": "code",
      "source": [
        "def minhaFuncao(arg1, *args):\n",
        "  print(\"Argumento 1: \", arg1)\n",
        "  for arg in args:\n",
        "    print(\"Argumento extra: \", arg)\n",
        "\n",
        "minhaFuncao(\"valor1\")\n",
        "minhaFuncao(\"valor2\", \"extra1\", \"extra2\", \"extra3\")\n",
        "\n"
      ],
      "metadata": {
        "colab": {
          "base_uri": "https://localhost:8080/"
        },
        "id": "rP2C-87tGau6",
        "outputId": "651bd2bc-21c6-4ec0-db31-abd675028ed1"
      },
      "execution_count": 8,
      "outputs": [
        {
          "output_type": "stream",
          "name": "stdout",
          "text": [
            "Argumento 1:  valor1\n",
            "Argumento 1:  valor2\n",
            "Argumento extra:  extra1\n",
            "Argumento extra:  extra2\n",
            "Argumento extra:  extra3\n"
          ]
        }
      ]
    },
    {
      "cell_type": "markdown",
      "source": [
        "# Exercício 5 - Crie uma função anônima e atribua seu retorno a uma variável chamada soma. A expressão vai receber 2 números como parâmetro e retornar a soma deles"
      ],
      "metadata": {
        "id": "pRtp-29tGbS2"
      }
    },
    {
      "cell_type": "code",
      "source": [
        "#função normal:\n",
        "\n",
        "def Soma(n1, n2):\n",
        "  soma = n1 + n2\n",
        "  return soma\n",
        "\n",
        "Soma(2,3)"
      ],
      "metadata": {
        "colab": {
          "base_uri": "https://localhost:8080/"
        },
        "id": "eDOb-26hGf4Y",
        "outputId": "839158c0-6130-46ff-eea0-ca37c6bce78e"
      },
      "execution_count": 10,
      "outputs": [
        {
          "output_type": "execute_result",
          "data": {
            "text/plain": [
              "5"
            ]
          },
          "metadata": {},
          "execution_count": 10
        }
      ]
    },
    {
      "cell_type": "code",
      "source": [
        "#função anônima\n",
        "\n",
        "soma = lambda x, y: x + y\n",
        "soma(2,3)"
      ],
      "metadata": {
        "colab": {
          "base_uri": "https://localhost:8080/"
        },
        "id": "GXB_gBlRayKX",
        "outputId": "e5a77d57-5567-4c5a-892a-211340b3716c"
      },
      "execution_count": 11,
      "outputs": [
        {
          "output_type": "execute_result",
          "data": {
            "text/plain": [
              "5"
            ]
          },
          "metadata": {},
          "execution_count": 11
        }
      ]
    },
    {
      "cell_type": "markdown",
      "source": [
        "# Exercício 6 - Execute o código abaixo e certifique-se que compreende a diferença entre variável global e local\n",
        "total = 0\n",
        "def soma( arg1, arg2 ):\n",
        "    total = arg1 + arg2; \n",
        "    print (\"Dentro da função o total é: \", total)\n",
        "    return total;\n",
        "\n",
        "\n",
        "soma( 10, 20 );\n",
        "print (\"Fora da função o total é: \", total)"
      ],
      "metadata": {
        "id": "GoQy3g2WaRO_"
      }
    },
    {
      "cell_type": "code",
      "source": [
        "total = 0\n",
        "def soma( arg1, arg2 ):\n",
        "    total = arg1 + arg2; \n",
        "    print (\"Dentro da função o total é: \", total)\n",
        "    return total;\n",
        "\n",
        "\n",
        "soma( 10, 20 );\n",
        "print (\"Fora da função o total é: \", total)"
      ],
      "metadata": {
        "colab": {
          "base_uri": "https://localhost:8080/"
        },
        "id": "PDail923aRwU",
        "outputId": "25545666-cf7e-43c7-b387-e2e32c1055d5"
      },
      "execution_count": 12,
      "outputs": [
        {
          "output_type": "stream",
          "name": "stdout",
          "text": [
            "Dentro da função o total é:  30\n",
            "Fora da função o total é:  0\n"
          ]
        }
      ]
    },
    {
      "cell_type": "markdown",
      "source": [
        "# Exercício 7 - Abaixo você encontra uma lista com temperaturas em graus Celsius\n",
        "# Crie uma função anônima que converta cada temperatura para Fahrenheit\n",
        "# Dica: para conseguir realizar este exercício, você deve criar sua função lambda, dentro de uma função \n",
        "\n",
        "Celsius = [39.2, 36.5, 37.3, 37.8]\n"
      ],
      "metadata": {
        "id": "0B7AwboebjqH"
      }
    },
    {
      "cell_type": "code",
      "source": [
        "def converter_para_fahrenheit(lista_celsius):\n",
        "    # Definir função anônima para converter Celsius para Fahrenheit\n",
        "    to_fahrenheit = lambda celsius: (celsius * 1.8) + 32\n",
        "\n",
        "    # Iterar sobre a lista de Celsius e aplicar a função anônima\n",
        "    lista_fahrenheit = list(map(to_fahrenheit, lista_celsius))\n",
        "\n",
        "    return lista_fahrenheit\n",
        "\n",
        "temperaturas_celsius = [39.2, 36.5, 37.3, 37.8]\n",
        "temperaturas_fahrenheit = converter_para_fahrenheit(temperaturas_celsius)\n",
        "print(temperaturas_fahrenheit)\n",
        "\n"
      ],
      "metadata": {
        "colab": {
          "base_uri": "https://localhost:8080/"
        },
        "id": "67qgEXa9bMcl",
        "outputId": "ddaf05c3-12f2-4490-b89b-1828fe936e2c"
      },
      "execution_count": 13,
      "outputs": [
        {
          "output_type": "stream",
          "name": "stdout",
          "text": [
            "[102.56, 97.7, 99.14, 100.03999999999999]\n"
          ]
        }
      ]
    },
    {
      "cell_type": "markdown",
      "source": [
        "# Exercício 8 - Crie uma list comprehension que imprima o quadrado dos números de 1 a 10\n"
      ],
      "metadata": {
        "id": "gq3sfzlvbnxe"
      }
    },
    {
      "cell_type": "code",
      "source": [
        "quadrado = [x**2 for x in range (1,11)]\n",
        "print(quadrado)"
      ],
      "metadata": {
        "colab": {
          "base_uri": "https://localhost:8080/"
        },
        "id": "X0g4WhgSbrdf",
        "outputId": "b8b4e41b-26d8-40fe-c606-de45687237f7"
      },
      "execution_count": 16,
      "outputs": [
        {
          "output_type": "stream",
          "name": "stdout",
          "text": [
            "[1, 4, 9, 16, 25, 36, 49, 64, 81, 100]\n"
          ]
        }
      ]
    },
    {
      "cell_type": "markdown",
      "source": [
        "# Exercício 9 - Crie uma list comprehension que imprima as palavras com a letra a no nome\n",
        "palavras = [\"maça\", \"coiote\", \"banana\", \"terreno\", \"Python\"]\n"
      ],
      "metadata": {
        "id": "DKrJGplXbsB5"
      }
    },
    {
      "cell_type": "code",
      "source": [
        "palavras = [\"maça\", \"coiote\", \"banana\", \"terreno\", \"Python\"]\n",
        "\n",
        "palavra_com_a = [palavra for palavra in palavras if 'a' in palavra.lower()]\n",
        "print(palavra_com_a)"
      ],
      "metadata": {
        "colab": {
          "base_uri": "https://localhost:8080/"
        },
        "id": "okHFl2BsbvZi",
        "outputId": "447aaa23-670b-4d25-c443-50d9ed4e1918"
      },
      "execution_count": 18,
      "outputs": [
        {
          "output_type": "stream",
          "name": "stdout",
          "text": [
            "['maça', 'banana']\n"
          ]
        }
      ]
    },
    {
      "cell_type": "markdown",
      "source": [
        "# Exercício 10 - Crie uma list comprehension que imprima os números menores que 5 em um intervalo de 1 a 10"
      ],
      "metadata": {
        "id": "bVmp3WCJbvx3"
      }
    },
    {
      "cell_type": "code",
      "source": [
        "lista_menores = [a for a in range (1,11) if a < 5]\n",
        "print(lista_menores)"
      ],
      "metadata": {
        "colab": {
          "base_uri": "https://localhost:8080/"
        },
        "id": "n_vGE7_Qby8X",
        "outputId": "a66afe33-9366-4a85-f117-26b914ce2406"
      },
      "execution_count": 19,
      "outputs": [
        {
          "output_type": "stream",
          "name": "stdout",
          "text": [
            "[1, 2, 3, 4]\n"
          ]
        }
      ]
    },
    {
      "cell_type": "code",
      "source": [],
      "metadata": {
        "id": "7iOddkcobzHE"
      },
      "execution_count": null,
      "outputs": []
    },
    {
      "cell_type": "code",
      "source": [],
      "metadata": {
        "id": "9xdKGVJubzKb"
      },
      "execution_count": null,
      "outputs": []
    }
  ]
}